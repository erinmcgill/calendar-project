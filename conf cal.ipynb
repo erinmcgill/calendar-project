{
 "metadata": {
  "name": "conf cal"
 },
 "nbformat": 3,
 "nbformat_minor": 0,
 "worksheets": [
  {
   "cells": [
    {
     "cell_type": "code",
     "collapsed": false,
     "input": [
      "# Conf Main : https://www.google.com/calendar/feeds/controlgroup.com_353732363735352d373236%40resource.calendar.google.com/private/full"
     ],
     "language": "python",
     "metadata": {},
     "outputs": []
    },
    {
     "cell_type": "code",
     "collapsed": false,
     "input": [
      "# Conf B : https://www.google.com/calendar/feeds/controlgroup.com_34313731303934392d343837%40resource.calendar.google.com/private/full"
     ],
     "language": "python",
     "metadata": {},
     "outputs": []
    },
    {
     "cell_type": "code",
     "collapsed": false,
     "input": [
      "# Conf C : https://www.google.com/calendar/feeds/controlgroup.com_3434363135383737383436%40resource.calendar.google.com/private/full"
     ],
     "language": "python",
     "metadata": {},
     "outputs": []
    },
    {
     "cell_type": "code",
     "collapsed": false,
     "input": [
      "# Conf D : https://www.google.com/calendar/feeds/controlgroup.com_34343733363837382d323333%40resource.calendar.google.com/private/full"
     ],
     "language": "python",
     "metadata": {},
     "outputs": []
    },
    {
     "cell_type": "code",
     "collapsed": false,
     "input": [
      "from apiclient.discovery import build\n",
      "from oauth2client.client import OAuth2WebServerFlow\n",
      "\n",
      "import httplib2"
     ],
     "language": "python",
     "metadata": {},
     "outputs": []
    },
    {
     "cell_type": "code",
     "collapsed": false,
     "input": [
      "import gdata.calendar.service\n",
      "import gdata.calendar.client"
     ],
     "language": "python",
     "metadata": {},
     "outputs": [],
     "prompt_number": 93
    },
    {
     "cell_type": "code",
     "collapsed": false,
     "input": [
      "MainConfId = 'controlgroup.com_34343733363837382d323333'"
     ],
     "language": "python",
     "metadata": {},
     "outputs": [],
     "prompt_number": 94
    },
    {
     "cell_type": "code",
     "collapsed": false,
     "input": [
      "url = 'https://www.google.com/calendar/feeds/controlgroup.com_34343733363837382d323333%40resource.calendar.google.com/private/full'"
     ],
     "language": "python",
     "metadata": {},
     "outputs": [],
     "prompt_number": 95
    },
    {
     "cell_type": "code",
     "collapsed": false,
     "input": [
      "#Create a client class which will make HTTP requests with Google Calendar server.\n",
      "service = gdata.calendar.service.CalendarService()\n",
      "client = gdata.calendar.client.CalendarClient"
     ],
     "language": "python",
     "metadata": {},
     "outputs": [],
     "prompt_number": 96
    },
    {
     "cell_type": "code",
     "collapsed": false,
     "input": [
      "# Authenticate using your Google Docs email address and password.\n",
      "service.ClientLogin('erin.mcgill@controlgroup.com', '')"
     ],
     "language": "python",
     "metadata": {},
     "outputs": [],
     "prompt_number": 97
    },
    {
     "cell_type": "code",
     "collapsed": false,
     "input": [
      "CalList = service.GetAllCalendarsFeed()\n",
      "Events = gdata.calendar.service.events().list(calendarId=url)\n",
      "print CalList"
     ],
     "language": "python",
     "metadata": {},
     "outputs": [
      {
       "ename": "AttributeError",
       "evalue": "'module' object has no attribute 'events'",
       "output_type": "pyerr",
       "traceback": [
        "\u001b[0;31m---------------------------------------------------------------------------\u001b[0m\n\u001b[0;31mAttributeError\u001b[0m                            Traceback (most recent call last)",
        "\u001b[0;32m<ipython-input-98-070b3f2f2430>\u001b[0m in \u001b[0;36m<module>\u001b[0;34m()\u001b[0m\n\u001b[1;32m      1\u001b[0m \u001b[0mCalList\u001b[0m \u001b[0;34m=\u001b[0m \u001b[0mservice\u001b[0m\u001b[0;34m.\u001b[0m\u001b[0mGetAllCalendarsFeed\u001b[0m\u001b[0;34m(\u001b[0m\u001b[0;34m)\u001b[0m\u001b[0;34m\u001b[0m\u001b[0m\n\u001b[0;32m----> 2\u001b[0;31m \u001b[0mEvents\u001b[0m \u001b[0;34m=\u001b[0m \u001b[0mgdata\u001b[0m\u001b[0;34m.\u001b[0m\u001b[0mcalendar\u001b[0m\u001b[0;34m.\u001b[0m\u001b[0mservice\u001b[0m\u001b[0;34m.\u001b[0m\u001b[0mevents\u001b[0m\u001b[0;34m(\u001b[0m\u001b[0;34m)\u001b[0m\u001b[0;34m.\u001b[0m\u001b[0mlist\u001b[0m\u001b[0;34m(\u001b[0m\u001b[0mcalendarId\u001b[0m\u001b[0;34m=\u001b[0m\u001b[0murl\u001b[0m\u001b[0;34m)\u001b[0m\u001b[0;34m\u001b[0m\u001b[0m\n\u001b[0m\u001b[1;32m      3\u001b[0m \u001b[0;32mprint\u001b[0m \u001b[0mCalList\u001b[0m\u001b[0;34m\u001b[0m\u001b[0m\n",
        "\u001b[0;31mAttributeError\u001b[0m: 'module' object has no attribute 'events'"
       ]
      }
     ],
     "prompt_number": 98
    },
    {
     "cell_type": "code",
     "collapsed": false,
     "input": [
      "print CalList.author"
     ],
     "language": "python",
     "metadata": {},
     "outputs": [
      {
       "output_type": "stream",
       "stream": "stdout",
       "text": [
        "[<atom.Author object at 0x102853450>]\n"
       ]
      }
     ],
     "prompt_number": 103
    },
    {
     "cell_type": "code",
     "collapsed": false,
     "input": [
      "for calendar_entry in CalList.entry:\n",
      "    print dir(calendar_entry)\n",
      "    print calendar_entry.author[0].name.text\n",
      "    break\n",
      "    #if calendar_entry.title.text == 'Conf D':\n",
      "     #   event = service.GetCalendarEventFeed('https://www.google.com/calendar/feeds/controlgroup.com_34343733363837382d323333%40resource.calendar.google.com/private/full')\n",
      "        #when = client.CalendarList.get('https://www.google.com/calendar/feeds/controlgroup.com_34343733363837382d323333%40resource.calendar.google.com/private/full')\n",
      "      #  print event\n",
      "        #print event.generator\n",
      "        #print event.start_index\n",
      "        #print event.attendee"
     ],
     "language": "python",
     "metadata": {},
     "outputs": [
      {
       "output_type": "stream",
       "stream": "stdout",
       "text": [
        "['FindExtensions', 'GetAclLink', 'GetAlternateLink', 'GetEditLink', 'GetEditMediaLink', 'GetFeedLink', 'GetHtmlLink', 'GetLicenseLink', 'GetMediaURL', 'GetNextLink', 'GetPostLink', 'GetPrevLink', 'GetSelfLink', 'IsMedia', 'ToString', '_AddMembersToElementTree', '_BecomeChildElement', '_ConvertElementAttributeToMember', '_ConvertElementTreeToMember', '_GDataEntry__GetId', '_GDataEntry__SetId', '_GDataEntry__id', '_HarvestElementTree', '_ToElementTree', '__class__', '__delattr__', '__dict__', '__doc__', '__format__', '__getattribute__', '__hash__', '__init__', '__module__', '__new__', '__reduce__', '__reduce_ex__', '__repr__', '__setattr__', '__sizeof__', '__str__', '__subclasshook__', '__weakref__', '_attributes', '_children', '_namespace', '_tag', 'access_level', 'author', 'category', 'color', 'content', 'contributor', 'control', 'extension_attributes', 'extension_elements', 'hidden', 'id', 'link', 'published', 'rights', 'selected', 'source', 'summary', 'text', 'timezone', 'title', 'updated', 'where']\n",
        "erin.mcgill@controlgroup.com\n"
       ]
      }
     ],
     "prompt_number": 115
    },
    {
     "cell_type": "code",
     "collapsed": false,
     "input": [
      "calendar_client = 'https://www.google.com/calendar/feeds/controlgroup.com_34343733363837382d323333%40resource.calendar.google.com/private/full'\n",
      "def DateRangeQuery(calendar_client, start_date='2013-04-01', end_date='2013-04-16'):\n",
      "  print 'Date range query for events on Primary Calendar: %s to %s' % (start_date, end_date,)\n",
      "  query = gdata.calendar.client.CalendarEventQuery()\n",
      "  query.start_min = start_date\n",
      "  query.start_max = end_date\n",
      "  feed = calendar_client.GetCalendarEventFeed(q=query)\n",
      "  for i, an_event in enumerate(feed.entry):\n",
      "    print '\\t%s. %s' % (i, an_event.title.text,)\n",
      "    for a_when in an_event.when:\n",
      "      print '\\t\\tStart time: %s' % (a_when.start,)\n",
      "      print '\\t\\tEnd time:   %s' % (a_when.end,)"
     ],
     "language": "python",
     "metadata": {},
     "outputs": [],
     "prompt_number": 51
    },
    {
     "cell_type": "code",
     "collapsed": false,
     "input": [],
     "language": "python",
     "metadata": {},
     "outputs": []
    }
   ],
   "metadata": {}
  }
 ]
}