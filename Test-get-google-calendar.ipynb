{
 "metadata": {
  "name": "Test-get-google-calendar"
 },
 "nbformat": 3,
 "nbformat_minor": 0,
 "worksheets": [
  {
   "cells": [
    {
     "cell_type": "code",
     "collapsed": false,
     "input": [
      "import httplib2\n",
      "import sys\n",
      "\n",
      "from apiclient.discovery import build\n",
      "from oauth2client.file import Storage\n",
      "from oauth2client.client import AccessTokenRefreshError\n",
      "from oauth2client.client import OAuth2WebServerFlow\n",
      "from oauth2client.tools import run"
     ],
     "language": "python",
     "metadata": {},
     "outputs": []
    },
    {
     "cell_type": "code",
     "collapsed": false,
     "input": [
      "# Eventually will need to load these from a file\n",
      "client_id = 317796910577.apps.googleusercontent.com\n",
      "client_secret = IvKDHSorjkShs8YHxZtya5-U"
     ],
     "language": "python",
     "metadata": {},
     "outputs": []
    },
    {
     "cell_type": "code",
     "collapsed": false,
     "input": [
      "# The scope URL for read/write access to a user's calendar data\n",
      "scope = 'https://www.googleapis.com/auth/calendar'"
     ],
     "language": "python",
     "metadata": {},
     "outputs": []
    },
    {
     "cell_type": "code",
     "collapsed": false,
     "input": [
      "# Create a flow object. This object holds the client_id, client_secret, and\n",
      "# scope. It assists with OAuth 2.0 steps to get user authorization and\n",
      "# credentials.\n",
      "flow = OAuth2WebServerFlow(client_id, client_secret, scope)"
     ],
     "language": "python",
     "metadata": {},
     "outputs": []
    },
    {
     "cell_type": "code",
     "collapsed": false,
     "input": [
      "def main():\n",
      "\n",
      "  # Create a Storage object. This object holds the credentials that your\n",
      "  # application needs to authorize access to the user's data. The name of the\n",
      "  # credentials file is provided. If the file does not exist, it is\n",
      "  # created. This object can only hold credentials for a single user, so\n",
      "  # as-written, this script can only handle a single user.\n",
      "  storage = Storage('credentials.dat')"
     ],
     "language": "python",
     "metadata": {},
     "outputs": []
    },
    {
     "cell_type": "code",
     "collapsed": false,
     "input": [
      "# The get() function returns the credentials for the Storage object. If no\n",
      "  # credentials were found, None is returned.\n",
      "  credentials = storage.get()"
     ],
     "language": "python",
     "metadata": {},
     "outputs": []
    },
    {
     "cell_type": "code",
     "collapsed": false,
     "input": [
      "  # If no credentials are found or the credentials are invalid due to\n",
      "  # expiration, new credentials need to be obtained from the authorization\n",
      "  # server. The oauth2client.tools.run() function attempts to open an\n",
      "  # authorization server page in your default web browser. The server\n",
      "  # asks the user to grant your application access to the user's data.\n",
      "  # If the user grants access, the run() function returns new credentials.\n",
      "  # The new credentials are also stored in the supplied Storage object,\n",
      "  # which updates the credentials.dat file.\n",
      "  if credentials is None or credentials.invalid:\n",
      "    credentials = run(flow, storage)"
     ],
     "language": "python",
     "metadata": {},
     "outputs": []
    },
    {
     "cell_type": "code",
     "collapsed": false,
     "input": [
      "  # Create an httplib2.Http object to handle our HTTP requests, and authorize it\n",
      "  # using the credentials.authorize() function.\n",
      "  http = httplib2.Http()\n",
      "  http = credentials.authorize(http)"
     ],
     "language": "python",
     "metadata": {},
     "outputs": []
    },
    {
     "cell_type": "code",
     "collapsed": false,
     "input": [
      "  # The apiclient.discovery.build() function returns an instance of an API service\n",
      "  # object can be used to make API calls. The object is constructed with\n",
      "  # methods specific to the calendar API. The arguments provided are:\n",
      "  #   name of the API ('calendar')\n",
      "  #   version of the API you are using ('v3')\n",
      "  #   authorized httplib2.Http() object that can be used for API calls\n",
      "  service = build('calendar', 'v3', http=http)"
     ],
     "language": "python",
     "metadata": {},
     "outputs": []
    },
    {
     "cell_type": "code",
     "collapsed": false,
     "input": [
      "try:\n",
      "\n",
      "    # The Calendar API's events().list method returns paginated results, so we\n",
      "    # have to execute the request in a paging loop. First, build the\n",
      "    # request object. The arguments provided are:\n",
      "    #   primary calendar for user\n",
      "    request = service.events().list(calendarId='controlgroup.com_34343733363837382d323333@resource.calendar.google.com')"
     ],
     "language": "python",
     "metadata": {},
     "outputs": []
    },
    {
     "cell_type": "code",
     "collapsed": false,
     "input": [
      "    # Loop until all pages have been processed.\n",
      "    while request != None:\n",
      "      # Get the next page.\n",
      "      response = request.execute()"
     ],
     "language": "python",
     "metadata": {},
     "outputs": []
    },
    {
     "cell_type": "code",
     "collapsed": false,
     "input": [
      "      # Accessing the response like a dict object with an 'items' key\n",
      "      # returns a list of item objects (events).\n",
      "      for event in response.get('items', []):\n",
      "        # The event object is a dict object with a 'summary' key.\n",
      "        print repr(event.get('summary', 'NO SUMMARY')) + '\\n'"
     ],
     "language": "python",
     "metadata": {},
     "outputs": []
    },
    {
     "cell_type": "code",
     "collapsed": false,
     "input": [
      "      # Get the next request object by passing the previous request object to\n",
      "      # the list_next method.\n",
      "      request = service.events().list_next(request, response)"
     ],
     "language": "python",
     "metadata": {},
     "outputs": []
    },
    {
     "cell_type": "code",
     "collapsed": false,
     "input": [
      "  except AccessTokenRefreshError:\n",
      "    # The AccessTokenRefreshError exception is raised if the credentials\n",
      "    # have been revoked by the user or they have expired.\n",
      "    print ('The credentials have been revoked or expired, please re-run'\n",
      "           'the application to re-authorize')\n",
      "\n",
      "if __name__ == '__main__':\n",
      "  main()"
     ],
     "language": "python",
     "metadata": {},
     "outputs": []
    }
   ],
   "metadata": {}
  }
 ]
}